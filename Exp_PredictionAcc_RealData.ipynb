{
 "cells": [
  {
   "cell_type": "code",
   "execution_count": 60,
   "metadata": {},
   "outputs": [],
   "source": [
    "from ipynb.fs.full.Mimic import *\n",
    "import numpy as np\n",
    "import matplotlib.pyplot as plt\n",
    "import pandas as pd\n",
    "from sklearn.ensemble import RandomForestClassifier\n",
    "from sklearn.svm import SVC\n",
    "from sklearn import tree\n",
    "\n",
    "import warnings\n",
    "warnings.filterwarnings(\"ignore\")"
   ]
  },
  {
   "cell_type": "markdown",
   "metadata": {},
   "source": [
    "# Evaluation Methodology"
   ]
  },
  {
   "cell_type": "code",
   "execution_count": 2,
   "metadata": {},
   "outputs": [],
   "source": [
    "# # initialize file\n",
    "# f = open(\"Results/exp_predictionAcc_realData.txt\", \"w\") # a is append, w is write\n",
    "# f.write(\"DS,rep,clf,optimal,biased,method,augmented_acc,added_points\")\n",
    "# f.close()"
   ]
  },
  {
   "cell_type": "code",
   "execution_count": 2,
   "metadata": {},
   "outputs": [],
   "source": [
    "def augment_multiClass_imi(data, labels):\n",
    "    points = []\n",
    "    point_labels = []\n",
    "    for c in np.unique(labels):\n",
    "        #dev = np.std(data[labels==c], axis=0)\n",
    "        #aug_p, _ = Imitate_augment(data[labels==c][:,dev>0], np.array([0]*np.sum(labels==c)))\n",
    "        aug_p, _ = Imitate_augment(data[labels==c], np.array([0]*np.sum(labels==c)))\n",
    "        #if len(aug_p) == 0: continue\n",
    "        #for col in np.where(dev==0)[0]:\n",
    "        #    aug_p = np.insert(aug_p, col, data[labels==c][0, col], axis=1)\n",
    "        points.append(aug_p)\n",
    "        point_labels.append([c]*len(aug_p))\n",
    "    return np.concatenate(points), np.concatenate(point_labels)"
   ]
  },
  {
   "cell_type": "code",
   "execution_count": 3,
   "metadata": {},
   "outputs": [],
   "source": [
    "def augment_multiClass_gmm(data, labels):\n",
    "    points = []\n",
    "    point_labels = []\n",
    "    for c in np.unique(labels):\n",
    "        dev = np.std(data[labels==c], axis=0)\n",
    "        gm_params = fit_gmm(data[labels==c][:,dev>0])\n",
    "        try:\n",
    "            aug_p, _ = augment(data[labels==c][:,dev>0], gm_params, plots=False, purge=False)\n",
    "            for col in np.where(dev==0)[0]:\n",
    "                aug_p = np.insert(aug_p, col, data[labels==c][0, col], axis=1)\n",
    "            points.append(aug_p)\n",
    "            point_labels.append([c]*len(aug_p))\n",
    "        except:\n",
    "            continue\n",
    "    if len(points) == 0: return np.empty((0, len(data[0]))), point_labels\n",
    "    return np.concatenate(points), np.concatenate(point_labels)"
   ]
  },
  {
   "cell_type": "code",
   "execution_count": 4,
   "metadata": {},
   "outputs": [],
   "source": [
    "# if we select the number of components via bic\n",
    "def fit_gmm(data, max_clusters=20):\n",
    "    max_clusters = min(len(data)-1, max_clusters)\n",
    "    best_bic = np.Inf\n",
    "    for c in range(1, max_clusters):\n",
    "        gm = GaussianMixture(n_components=c, random_state=0).fit(data)\n",
    "        if gm.bic(data) < best_bic: \n",
    "            best_comp = c\n",
    "            best_bic = gm.bic(data)\n",
    "\n",
    "    gm = GaussianMixture(n_components=best_comp, random_state=0).fit(data)\n",
    "    return list(zip(gm.means_, gm.covariances_))"
   ]
  },
  {
   "cell_type": "code",
   "execution_count": 5,
   "metadata": {},
   "outputs": [],
   "source": [
    "def augment_multiClass_mimic(data, labels):\n",
    "    points = []\n",
    "    point_labels = []\n",
    "    for c in np.unique(labels):\n",
    "        dev = np.std(data[labels==c], axis=0)\n",
    "        _, imi_params = fit(data[labels==c][:,dev>0], plots=False)\n",
    "        try:\n",
    "            aug_p, _ = augment(data[labels==c][:,dev>0], imi_params, plots=False, purge=False)\n",
    "            for col in np.where(dev==0)[0]:\n",
    "                aug_p = np.insert(aug_p, col, data[labels==c][0, col], axis=1)\n",
    "            points.append(aug_p)\n",
    "            point_labels.append([c]*len(aug_p))\n",
    "        except:\n",
    "            continue\n",
    "    if len(points) == 0: return np.empty((0, len(data[0]))), point_labels\n",
    "    return np.concatenate(points), np.concatenate(point_labels)"
   ]
  },
  {
   "cell_type": "code",
   "execution_count": 6,
   "metadata": {},
   "outputs": [],
   "source": [
    "def run_experiment(X, y, bias_gen, ds=\"\", rep=10):\n",
    "    clf_names = ['DT', 'SVM', 'RF']\n",
    "    for r in range(rep):\n",
    "        clfs = [DecisionTreeClassifier(), SVC(), RandomForestClassifier()]\n",
    "        X_tr, X_te, y_tr, y_te = train_test_split(X, y, test_size=0.20)\n",
    "        X_b, y_b = bias_gen(X_tr, y_tr)\n",
    "        X_te = X_te[:,:-1]\n",
    "        X_tr = X_tr[:,:-1]\n",
    "        \n",
    "        p_gmm, l_gmm = augment_multiClass_gmm(X_b, y_b)\n",
    "        X_gmm, y_gmm = np.concatenate((X_b, p_gmm)), np.append(y_b, l_gmm)\n",
    "        \n",
    "        p_imi, l_imi = augment_multiClass_imi(X_b, y_b)\n",
    "        X_imi, y_imi = np.concatenate((X_b, p_imi)), np.append(y_b, l_imi)\n",
    "        \n",
    "        p_mim, l_mim = augment_multiClass_mimic(X_b, y_b)\n",
    "        X_mim, y_mim = np.concatenate((X_b, p_mim)), np.append(y_b, l_mim)\n",
    "        \n",
    "        f = open(\"Results/exp_predictionAcc_realData.txt\", \"a\")\n",
    "        for i in range(len(clfs)):\n",
    "            o = clfs[i].fit(X_tr, y_tr).score(X_te, y_te) # original\n",
    "            b = clfs[i].fit(X_b, y_b).score(X_te, y_te) # biased\n",
    "            a_gmm = clfs[i].fit(X_gmm, y_gmm).score(X_te, y_te)\n",
    "            a_imi = clfs[i].fit(X_imi, y_imi).score(X_te, y_te)\n",
    "            a_mim = clfs[i].fit(X_mim, y_mim).score(X_te, y_te)\n",
    "\n",
    "            f.write(\"\\n\"+ds+\",\"+str(r)+\",\"+clf_names[i]+\",\"+str(o)+\",\"+str(b)+\",GMM,\"+str(a_gmm)+\",\"+str(len(l_gmm)))\n",
    "            f.write(\"\\n\"+ds+\",\"+str(r)+\",\"+clf_names[i]+\",\"+str(o)+\",\"+str(b)+\",Imitate,\"+str(a_imi)+\",\"+str(len(l_imi)))\n",
    "            f.write(\"\\n\"+ds+\",\"+str(r)+\",\"+clf_names[i]+\",\"+str(o)+\",\"+str(b)+\",Mimic (ours),\"+str(a_mim)+\",\"+str(len(l_mim)))\n",
    "        f.close()"
   ]
  },
  {
   "cell_type": "markdown",
   "metadata": {},
   "source": [
    "# Abalone\n",
    "(taken from Imitate paper)"
   ]
  },
  {
   "cell_type": "code",
   "execution_count": 56,
   "metadata": {},
   "outputs": [],
   "source": [
    "# class label = sex\n",
    "def loadData_abalone(dataset_size=4177):\n",
    "    url = 'https://archive.ics.uci.edu/ml/machine-learning-databases/abalone/abalone.data'\n",
    "    dataset = pd.read_csv(url, header=None)\n",
    "    y = dataset[0].to_numpy()\n",
    "    isInB = np.array([dataset.to_numpy()[i,6]<0.144 for i in range(len(dataset))])\n",
    "    isInB = isInB.reshape(len(isInB), 1)\n",
    "    X = dataset.drop([0], axis=1).to_numpy()\n",
    "    X = np.append(X, isInB, axis=1)\n",
    "    \n",
    "    return X, y"
   ]
  },
  {
   "cell_type": "code",
   "execution_count": 57,
   "metadata": {},
   "outputs": [],
   "source": [
    "def bias_abalone(data, labels):\n",
    "    isInB = data[:,-1]\n",
    "    X = data[isInB==1]\n",
    "    X = X[:, 0:(len(data[0])-1)]\n",
    "    y = labels[isInB==1]\n",
    "    return X, y"
   ]
  },
  {
   "cell_type": "code",
   "execution_count": 58,
   "metadata": {},
   "outputs": [],
   "source": [
    "X, y = loadData_abalone()"
   ]
  },
  {
   "cell_type": "code",
   "execution_count": 59,
   "metadata": {
    "scrolled": true
   },
   "outputs": [],
   "source": [
    "#run_experiment(X, y, bias_abalone, ds='Abalone', rep=10)"
   ]
  },
  {
   "cell_type": "markdown",
   "metadata": {},
   "source": [
    "# Banknote\n",
    "(taken from Imitate paper)"
   ]
  },
  {
   "cell_type": "code",
   "execution_count": 19,
   "metadata": {},
   "outputs": [],
   "source": [
    "def loadData_banknote_complete(dataset_size=1372):\n",
    "    url = 'https://archive.ics.uci.edu/ml/machine-learning-databases/00267/data_banknote_authentication.txt'\n",
    "    dataset = pd.read_csv(url, header=None)\n",
    "    y = dataset[4].to_numpy()\n",
    "    isInB = np.array([dataset.to_numpy()[i,0]>0.32 for i in range(len(dataset))])\n",
    "    isInB = isInB.reshape(len(isInB), 1)\n",
    "    X = dataset.drop([4], axis=1).to_numpy()\n",
    "    X = np.append(X, isInB, axis=1)\n",
    "    \n",
    "    return X, y"
   ]
  },
  {
   "cell_type": "code",
   "execution_count": 20,
   "metadata": {},
   "outputs": [],
   "source": [
    "def bias_banknote(data, labels):\n",
    "    isInB = data[:,-1]\n",
    "    X = data[isInB==1]\n",
    "    X = X[:, 0:(len(data[0])-1)]\n",
    "    y = labels[isInB==1]\n",
    "    return X, y"
   ]
  },
  {
   "cell_type": "code",
   "execution_count": 21,
   "metadata": {},
   "outputs": [],
   "source": [
    "X, y = loadData_banknote_complete()"
   ]
  },
  {
   "cell_type": "code",
   "execution_count": 22,
   "metadata": {
    "scrolled": true
   },
   "outputs": [],
   "source": [
    "#run_experiment(X, y, bias_banknote, ds='Banknote', rep=20)"
   ]
  },
  {
   "cell_type": "markdown",
   "metadata": {},
   "source": [
    "# Car\n",
    "(taken from Imitate paper)"
   ]
  },
  {
   "cell_type": "code",
   "execution_count": 23,
   "metadata": {},
   "outputs": [],
   "source": [
    "def loadData_car(dataset_size=1728):\n",
    "    url = 'https://archive.ics.uci.edu/ml/machine-learning-databases/car/car.data'\n",
    "    toNum = {\n",
    "        'low': 1,\n",
    "        'med': 2,\n",
    "        'high': 3,\n",
    "        'vhigh':4,\n",
    "        '5more':5,\n",
    "        'more':5,\n",
    "        'small':1,\n",
    "        'big':3\n",
    "    }\n",
    "    dataset = pd.read_csv(url, header=None)\n",
    "    y = dataset[6].to_numpy()\n",
    "    dataset = dataset.drop([6], axis=1)\n",
    "    dataset = dataset.replace({0:toNum, 1:toNum, 2:toNum, 3:toNum, 4:toNum, 5:toNum})\n",
    "    dataset = dataset.apply(pd.to_numeric)\n",
    "    \n",
    "    isInB = np.array([dataset.to_numpy()[i,3]>3 for i in range(len(dataset))])\n",
    "    isInB = isInB.reshape(len(isInB), 1)\n",
    "    #dataset = dataset.drop([3], axis=1)\n",
    "    X = np.append(dataset.to_numpy(), isInB, axis=1)\n",
    "    \n",
    "    return X, y"
   ]
  },
  {
   "cell_type": "code",
   "execution_count": 24,
   "metadata": {},
   "outputs": [],
   "source": [
    "def bias_car(data, labels):\n",
    "    isInB = data[:,-1]\n",
    "    X = data[isInB==1]\n",
    "    X = X[:, 0:(len(data[0])-1)]\n",
    "    y = labels[isInB==1]\n",
    "    return X, y"
   ]
  },
  {
   "cell_type": "code",
   "execution_count": 25,
   "metadata": {},
   "outputs": [],
   "source": [
    "X, y = loadData_car()"
   ]
  },
  {
   "cell_type": "code",
   "execution_count": 61,
   "metadata": {
    "scrolled": true
   },
   "outputs": [],
   "source": [
    "#run_experiment(X, y, bias_car, ds='Car', rep=20)"
   ]
  },
  {
   "cell_type": "markdown",
   "metadata": {},
   "source": [
    "# Skin\n",
    "(taken from Imitate paper)"
   ]
  },
  {
   "cell_type": "code",
   "execution_count": 28,
   "metadata": {},
   "outputs": [],
   "source": [
    "def loadData_skin(dataset_size=245057):\n",
    "    url = 'https://archive.ics.uci.edu/ml/machine-learning-databases/00229/Skin_NonSkin.txt'\n",
    "    dataset = pd.read_csv(url, header=None, sep='\\t')\n",
    "    y = dataset[3].to_numpy()\n",
    "    isInB = np.array([dataset.to_numpy()[i,2]<=170.5 for i in range(len(dataset))])\n",
    "    isInB = isInB.reshape(len(isInB), 1)\n",
    "    X = dataset.drop([3], axis=1).to_numpy()\n",
    "    X = np.append(X, isInB, axis=1)\n",
    "    \n",
    "    # draw sample\n",
    "    X, _, y, _ = train_test_split(X, y, test_size=0.98)\n",
    "    \n",
    "    return X, y"
   ]
  },
  {
   "cell_type": "code",
   "execution_count": 29,
   "metadata": {},
   "outputs": [],
   "source": [
    "def bias_skin(data, labels):\n",
    "    isInB = data[:,-1]\n",
    "    X = data[isInB==1]\n",
    "    X = X[:, 0:(len(data[0])-1)]\n",
    "    y = labels[isInB==1]\n",
    "    return X, y"
   ]
  },
  {
   "cell_type": "code",
   "execution_count": 30,
   "metadata": {},
   "outputs": [],
   "source": [
    "X, y = loadData_skin()"
   ]
  },
  {
   "cell_type": "code",
   "execution_count": 31,
   "metadata": {
    "scrolled": true
   },
   "outputs": [],
   "source": [
    "#run_experiment(X, y, bias_skin, ds='Skin', rep=10)"
   ]
  },
  {
   "cell_type": "markdown",
   "metadata": {},
   "source": [
    "## Wholesale customers\n",
    "https://archive.ics.uci.edu/ml/datasets/Wholesale+customers"
   ]
  },
  {
   "cell_type": "code",
   "execution_count": 38,
   "metadata": {},
   "outputs": [],
   "source": [
    "df = pd.read_csv(\"Datasets/Wholesale_customers_data.csv\")\n",
    "channel = df['Channel']\n",
    "region = df['Region']\n",
    "X = df.drop(['Channel', 'Region'], axis=1).to_numpy()\n",
    "isInB = (df['Frozen'] > 409.5).to_numpy()"
   ]
  },
  {
   "cell_type": "code",
   "execution_count": 107,
   "metadata": {},
   "outputs": [
    {
     "data": {
      "text/plain": [
       "[Text(167.4, 163.07999999999998, 'X[3] <= 409.5\\ngini = 0.442\\nsamples = 440\\nvalue = [77, 47, 316]'),\n",
       " Text(83.7, 54.360000000000014, 'gini = 0.229\\nsamples = 63\\nvalue = [5, 3, 55]'),\n",
       " Text(251.10000000000002, 54.360000000000014, 'gini = 0.471\\nsamples = 377\\nvalue = [72, 44, 261]')]"
      ]
     },
     "execution_count": 107,
     "metadata": {},
     "output_type": "execute_result"
    },
    {
     "data": {
      "image/png": "[encoded data removed]",
      "text/plain": [
       "<Figure size 432x288 with 1 Axes>"
      ]
     },
     "metadata": {
      "needs_background": "light"
     },
     "output_type": "display_data"
    }
   ],
   "source": [
    "clf = tree.DecisionTreeClassifier(max_depth=1)\n",
    "clf = clf.fit(X,region)\n",
    "tree.plot_tree(clf)"
   ]
  },
  {
   "cell_type": "code",
   "execution_count": 39,
   "metadata": {},
   "outputs": [],
   "source": [
    "def loadData_wholesale(dataset_size=440):\n",
    "    df = pd.read_csv(\"Datasets/Wholesale_customers_data.csv\")\n",
    "    df['isInB'] = df['Frozen'] > 409.5\n",
    "    y = df['Region']\n",
    "    X = df.drop(['Channel', 'Region'], axis=1).astype(float).to_numpy()\n",
    "    \n",
    "    return X, y"
   ]
  },
  {
   "cell_type": "code",
   "execution_count": 40,
   "metadata": {},
   "outputs": [],
   "source": [
    "def bias_wholesale(data, labels):\n",
    "    isInB = data[:,-1]\n",
    "    X = data[isInB==1][:, 0:-1]\n",
    "    y = labels[isInB==1]\n",
    "    return X, y"
   ]
  },
  {
   "cell_type": "code",
   "execution_count": 41,
   "metadata": {},
   "outputs": [],
   "source": [
    "X, y = loadData_wholesale()"
   ]
  },
  {
   "cell_type": "code",
   "execution_count": 42,
   "metadata": {
    "scrolled": true
   },
   "outputs": [],
   "source": [
    "#run_experiment(X, y, bias_wholesale, ds='Wholesale', rep=20)"
   ]
  },
  {
   "cell_type": "markdown",
   "metadata": {},
   "source": [
    "## Diabetes\n",
    "https://archive.ics.uci.edu/ml/datasets/Diabetes+130-US+hospitals+for+years+1999-2008"
   ]
  },
  {
   "cell_type": "code",
   "execution_count": 48,
   "metadata": {},
   "outputs": [],
   "source": [
    "df = pd.read_csv(\"Datasets/diabetic_data.csv\", sep=\",\", header=0)\n",
    "race = df['race']\n",
    "gender = df['gender']\n",
    "med = df['diabetesMed']\n",
    "df['age_num'] = pd.factorize(df['age'], sort=True)[0]*10+5\n",
    "age = df['age_num']\n",
    "cols = ['num_lab_procedures', 'num_procedures', 'num_medications', 'age_num',\n",
    "        'number_outpatient', 'number_emergency', 'number_inpatient', 'number_diagnoses']\n",
    "X, _, y, _ = train_test_split(df[cols], med, test_size=0.9, stratify=med)\n",
    "X = X.to_numpy()\n",
    "isInB = X[:,2] > 9.5"
   ]
  },
  {
   "cell_type": "code",
   "execution_count": 46,
   "metadata": {},
   "outputs": [
    {
     "data": {
      "text/plain": [
       "[Text(167.4, 163.07999999999998, 'X[2] <= 9.5\\ngini = 0.354\\nsamples = 10176\\nvalue = [2340, 7836]'),\n",
       " Text(83.7, 54.360000000000014, 'gini = 0.473\\nsamples = 2010\\nvalue = [771, 1239]'),\n",
       " Text(251.10000000000002, 54.360000000000014, 'gini = 0.31\\nsamples = 8166\\nvalue = [1569, 6597]')]"
      ]
     },
     "execution_count": 46,
     "metadata": {},
     "output_type": "execute_result"
    },
    {
     "data": {
      "image/png": "[encoded data removed]",
      "text/plain": [
       "<Figure size 432x288 with 1 Axes>"
      ]
     },
     "metadata": {
      "needs_background": "light"
     },
     "output_type": "display_data"
    }
   ],
   "source": [
    "clf = tree.DecisionTreeClassifier(max_depth=1)\n",
    "clf = clf.fit(X,y)\n",
    "tree.plot_tree(clf)"
   ]
  },
  {
   "cell_type": "code",
   "execution_count": 43,
   "metadata": {},
   "outputs": [],
   "source": [
    "def loadData_diabetes(dataset_size=440):\n",
    "    df = pd.read_csv(\"Datasets/diabetic_data.csv\", sep=\",\", header=0)\n",
    "    df['age_num'] = pd.factorize(df['age'], sort=True)[0]*10+5\n",
    "    cols = ['num_lab_procedures', 'num_procedures', 'num_medications', 'age_num',\n",
    "            'number_outpatient', 'number_emergency', 'number_inpatient', 'number_diagnoses']\n",
    "    X, _, y, _ = train_test_split(df[cols], df['diabetesMed'], test_size=0.9, stratify=df['diabetesMed'])\n",
    "    X = X.to_numpy()\n",
    "    isInB = X[:,2] > 9.5\n",
    "    X = np.column_stack(((X, isInB.astype(int))))\n",
    "    \n",
    "    return X, y"
   ]
  },
  {
   "cell_type": "code",
   "execution_count": 44,
   "metadata": {},
   "outputs": [],
   "source": [
    "def bias_diabetes(data, labels):\n",
    "    isInB = data[:,-1]\n",
    "    X = data[isInB==1][:, 0:-1]\n",
    "    y = labels[isInB==1]\n",
    "    return X, y"
   ]
  },
  {
   "cell_type": "code",
   "execution_count": 45,
   "metadata": {},
   "outputs": [],
   "source": [
    "X, y = loadData_diabetes()"
   ]
  },
  {
   "cell_type": "code",
   "execution_count": 46,
   "metadata": {
    "scrolled": true
   },
   "outputs": [],
   "source": [
    "#run_experiment(X, y, bias_diabetes, ds='Diabetes', rep=20)"
   ]
  },
  {
   "cell_type": "markdown",
   "metadata": {},
   "source": [
    "# Vertebral Column\n",
    "https://archive.ics.uci.edu/ml/datasets/Vertebral+Column"
   ]
  },
  {
   "cell_type": "code",
   "execution_count": 47,
   "metadata": {},
   "outputs": [],
   "source": [
    "df = pd.read_csv('Datasets/column_2C.dat', sep='\\s', header=None)\n",
    "y = df[6]\n",
    "X = df.drop([6], axis=1).to_numpy()\n",
    "isInB = X[:,5] <= 14.855"
   ]
  },
  {
   "cell_type": "code",
   "execution_count": 65,
   "metadata": {},
   "outputs": [
    {
     "data": {
      "text/plain": [
       "[Text(167.4, 163.07999999999998, 'X[5] <= 14.855\\ngini = 0.437\\nsamples = 310\\nvalue = [210, 100]'),\n",
       " Text(83.7, 54.360000000000014, 'gini = 0.479\\nsamples = 161\\nvalue = [64, 97]'),\n",
       " Text(251.10000000000002, 54.360000000000014, 'gini = 0.039\\nsamples = 149\\nvalue = [146, 3]')]"
      ]
     },
     "execution_count": 65,
     "metadata": {},
     "output_type": "execute_result"
    },
    {
     "data": {
      "image/png": "[encoded data removed]",
      "text/plain": [
       "<Figure size 432x288 with 1 Axes>"
      ]
     },
     "metadata": {
      "needs_background": "light"
     },
     "output_type": "display_data"
    }
   ],
   "source": [
    "clf = tree.DecisionTreeClassifier(max_depth=1)\n",
    "clf = clf.fit(X,y)\n",
    "tree.plot_tree(clf)"
   ]
  },
  {
   "cell_type": "code",
   "execution_count": 48,
   "metadata": {},
   "outputs": [],
   "source": [
    "def loadData_vertebral(dataset_size=310):\n",
    "    df = pd.read_csv('Datasets/column_2C.dat', sep='\\s', header=None)\n",
    "    y = df[6]\n",
    "    X = df.drop([6], axis=1).to_numpy()\n",
    "    isInB = X[:,5] <= 14.855\n",
    "    X = np.column_stack(((X, isInB.astype(int))))\n",
    "    \n",
    "    return X, y"
   ]
  },
  {
   "cell_type": "code",
   "execution_count": 49,
   "metadata": {},
   "outputs": [],
   "source": [
    "def bias_vertebral(data, labels):\n",
    "    isInB = data[:,-1]\n",
    "    X = data[isInB==1][:, 0:-1]\n",
    "    y = labels[isInB==1]\n",
    "    return X, y"
   ]
  },
  {
   "cell_type": "code",
   "execution_count": 50,
   "metadata": {},
   "outputs": [],
   "source": [
    "X, y = loadData_vertebral()"
   ]
  },
  {
   "cell_type": "code",
   "execution_count": 51,
   "metadata": {
    "scrolled": true
   },
   "outputs": [],
   "source": [
    "#run_experiment(X, y, bias_vertebral, ds='Vertebral Column', rep=20)"
   ]
  },
  {
   "cell_type": "markdown",
   "metadata": {},
   "source": [
    "# Yeast\n",
    "https://archive.ics.uci.edu/ml/datasets/Yeast"
   ]
  },
  {
   "cell_type": "code",
   "execution_count": 8,
   "metadata": {},
   "outputs": [],
   "source": [
    "df = pd.read_csv(\"https://archive.ics.uci.edu/ml/machine-learning-databases/yeast/yeast.data\", header=None, sep='\\s+')\n",
    "y = (df[9] == 'CYT').astype(int)\n",
    "X = df.drop([0, 9], axis=1).to_numpy()\n",
    "isInB = X[:,2] > 0.445"
   ]
  },
  {
   "cell_type": "code",
   "execution_count": 9,
   "metadata": {},
   "outputs": [
    {
     "data": {
      "text/plain": [
       "[Text(167.4, 163.07999999999998, 'X[2] <= 0.445\\ngini = 0.429\\nsamples = 1484\\nvalue = [1021, 463]'),\n",
       " Text(83.7, 54.360000000000014, 'gini = 0.083\\nsamples = 322\\nvalue = [308, 14]'),\n",
       " Text(251.10000000000002, 54.360000000000014, 'gini = 0.474\\nsamples = 1162\\nvalue = [713, 449]')]"
      ]
     },
     "execution_count": 9,
     "metadata": {},
     "output_type": "execute_result"
    },
    {
     "data": {
      "image/png": "[encoded data removed]",
      "text/plain": [
       "<Figure size 432x288 with 1 Axes>"
      ]
     },
     "metadata": {
      "needs_background": "light"
     },
     "output_type": "display_data"
    }
   ],
   "source": [
    "clf = tree.DecisionTreeClassifier(max_depth=1)\n",
    "clf = clf.fit(X,y)\n",
    "tree.plot_tree(clf)"
   ]
  },
  {
   "cell_type": "code",
   "execution_count": 10,
   "metadata": {
    "scrolled": true
   },
   "outputs": [
    {
     "name": "stdout",
     "output_type": "stream",
     "text": [
      "DT GMM -0.014150943396226467\n",
      "DT Imi -0.09029649595687339\n",
      "DT Mimic 0.0\n",
      "DT MAX 0.07345013477088946\n",
      "Mimic wins!\n",
      "SVM GMM -0.028301886792452824\n",
      "SVM Imi -0.013477088948787075\n",
      "SVM Mimic -0.010781671159029727\n",
      "SVM MAX 0.02156334231805923\n",
      "Mimic wins!\n",
      "RF GMM -0.025606469002695476\n",
      "RF Imi -0.1671159029649596\n",
      "RF Mimic -0.025606469002695476\n",
      "RF MAX 0.025606469002695365\n",
      "------------------------------\n",
      "DT GMM 0.008760107816711549\n",
      "DT Imi 0.004716981132075415\n",
      "DT Mimic -0.011455525606469008\n",
      "DT MAX 0.0768194070080862\n",
      "SVM GMM -0.0006738544474393926\n",
      "SVM Imi -0.0013477088948787852\n",
      "SVM Mimic 0.0\n",
      "SVM MAX 0.02156334231805923\n",
      "Mimic wins!\n",
      "RF GMM 0.0040431266846360225\n",
      "RF Imi -0.016846361185983927\n",
      "RF Mimic -0.01482479784366586\n",
      "RF MAX 0.025606469002695365\n",
      "------------------------------\n",
      "DT GMM -0.0026954177897574594\n",
      "DT Imi 0.0040431266846361336\n",
      "DT Mimic -0.0020215633423180668\n",
      "DT MAX 0.0714285714285714\n",
      "SVM GMM -0.055929919137466366\n",
      "SVM Imi -0.0074123989218328745\n",
      "SVM Mimic 0.0026954177897573484\n",
      "SVM MAX 0.02156334231805923\n",
      "Mimic wins!\n",
      "RF GMM -0.026280323450134868\n",
      "RF Imi -0.08557951482479786\n",
      "RF Mimic -0.005390835579514919\n",
      "RF MAX 0.025606469002695365\n",
      "Mimic wins!\n",
      "------------------------------\n"
     ]
    }
   ],
   "source": [
    "quick_test(X, y, isInB, rep=3)"
   ]
  },
  {
   "cell_type": "code",
   "execution_count": 52,
   "metadata": {},
   "outputs": [],
   "source": [
    "def loadData_yeast(dataset_size=1484):\n",
    "    df = pd.read_csv(\"https://archive.ics.uci.edu/ml/machine-learning-databases/yeast/yeast.data\", header=None, sep='\\s+')\n",
    "    y = (df[9] == 'CYT').astype(int)\n",
    "    X = df.drop([0, 9], axis=1).to_numpy()\n",
    "    isInB = X[:,2] > 0.445\n",
    "    X = np.column_stack(((X, isInB.astype(int))))\n",
    "    \n",
    "    return X, y"
   ]
  },
  {
   "cell_type": "code",
   "execution_count": 53,
   "metadata": {},
   "outputs": [],
   "source": [
    "def bias_yeast(data, labels):\n",
    "    isInB = data[:,-1]\n",
    "    X = data[isInB==1][:, 0:-1]\n",
    "    y = labels[isInB==1]\n",
    "    return X, y"
   ]
  },
  {
   "cell_type": "code",
   "execution_count": 54,
   "metadata": {},
   "outputs": [],
   "source": [
    "X, y = loadData_yeast()"
   ]
  },
  {
   "cell_type": "code",
   "execution_count": 55,
   "metadata": {
    "scrolled": true
   },
   "outputs": [],
   "source": [
    "run_experiment(X, y, bias_yeast, ds='Yeast', rep=20)"
   ]
  }
 ],
 "metadata": {
  "kernelspec": {
   "display_name": "Python 3",
   "language": "python",
   "name": "python3"
  },
  "language_info": {
   "codemirror_mode": {
    "name": "ipython",
    "version": 3
   },
   "file_extension": ".py",
   "mimetype": "text/x-python",
   "name": "python",
   "nbconvert_exporter": "python",
   "pygments_lexer": "ipython3",
   "version": "3.8.5"
  }
 },
 "nbformat": 4,
 "nbformat_minor": 2
}
