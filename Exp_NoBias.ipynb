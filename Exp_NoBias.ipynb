{
 "cells": [
  {
   "cell_type": "code",
   "execution_count": 49,
   "metadata": {},
   "outputs": [],
   "source": [
    "from ipynb.fs.full.Mimic import *\n",
    "import numpy as np\n",
    "import matplotlib.pyplot as plt\n",
    "import matplotlib\n",
    "import seaborn as sns\n",
    "colormap = np.array([\"#66ccee\", \"#ccbb44\", \"#ee6677\", \"#aa3377\", \"#bbbbbb\", \"#4477aa\", \"#228833\"])\n",
    "import matplotlib.ticker as mtick\n",
    "from matplotlib.patches import Patch\n",
    "from matplotlib.lines import Line2D\n",
    "from matplotlib.legend_handler import HandlerTuple\n",
    "\n",
    "import warnings\n",
    "warnings.filterwarnings(\"ignore\")"
   ]
  },
  {
   "cell_type": "code",
   "execution_count": 2,
   "metadata": {},
   "outputs": [],
   "source": [
    "def augment(data, params):\n",
    "    labels = predict(data, params)\n",
    "    data_clean = data[labels >= 0]\n",
    "    labels_clean = labels[labels >= 0]\n",
    "        \n",
    "    points, point_labels = Imitate_augment(data_clean, labels_clean)\n",
    "    points_, point_labels_ = purge_low_confidence(data_clean, labels_clean, points, point_labels)\n",
    "    return points, point_labels, len(point_labels), len(point_labels_)"
   ]
  },
  {
   "cell_type": "markdown",
   "metadata": {},
   "source": [
    "# Compare bias / no bias"
   ]
  },
  {
   "cell_type": "code",
   "execution_count": 26,
   "metadata": {},
   "outputs": [],
   "source": [
    "# # write header into file\n",
    "# df = pd.DataFrame([], columns=['num_clusters', 'seed', 'biased', 'withPurge', 'num_aug'])\n",
    "# df.to_csv(\"Results/exp_noBias.txt\", index=False, header=True, mode='w')"
   ]
  },
  {
   "cell_type": "code",
   "execution_count": 27,
   "metadata": {},
   "outputs": [],
   "source": [
    "for num_clusters in range(2, 6):\n",
    "    for rep in range(10):\n",
    "        seed = np.random.randint(1000, 9999)\n",
    "        data, labels = generatePills(5000, num_clusters, 2, seed=seed, mean_low=100, mean_high=200)\n",
    "        data_b, _, _ = generateBias(data, labels, num_clusters, seed=seed)\n",
    "        try:\n",
    "            _, params = fit(data, plots=False)\n",
    "            _, params_b = fit(data_b, plots=False)\n",
    "            \n",
    "            _, _, num_p, num_p_purge = augment(data, params)\n",
    "            _, _, num_p_b, num_p_purge_b = augment(data_b, params_b)\n",
    "            \n",
    "            df = pd.DataFrame([[num_clusters, seed, False, False, num_p],\n",
    "                              [num_clusters, seed, False, True, num_p_purge],\n",
    "                              [num_clusters, seed, True, False, num_p_b],\n",
    "                              [num_clusters, seed, True, True, num_p_purge_b]])\n",
    "            df.to_csv(\"Results/exp_noBias.txt\", index=False, header=False, mode='a')\n",
    "        except:\n",
    "            continue"
   ]
  }
 ],
 "metadata": {
  "kernelspec": {
   "display_name": "Python 3",
   "language": "python",
   "name": "python3"
  },
  "language_info": {
   "codemirror_mode": {
    "name": "ipython",
    "version": 3
   },
   "file_extension": ".py",
   "mimetype": "text/x-python",
   "name": "python",
   "nbconvert_exporter": "python",
   "pygments_lexer": "ipython3",
   "version": "3.8.5"
  }
 },
 "nbformat": 4,
 "nbformat_minor": 2
}
